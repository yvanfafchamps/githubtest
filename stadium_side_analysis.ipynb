{
 "cells": [
  {
   "cell_type": "markdown",
   "metadata": {},
   "source": [
    "## 1st base vs 3rd base seating section analysis\n",
    "Comparing revenue from seating sections behind 1st base and 3rd base:\n",
    "- Generally across all games\n",
    "- General games vs Subway Series\n",
    "- General games vs Dodgers games"
   ]
  },
  {
   "cell_type": "code",
   "execution_count": 74,
   "metadata": {},
   "outputs": [
    {
     "name": "stdout",
     "output_type": "stream",
     "text": [
      "Libraries imported successfully.\n",
      "File path defined successfully.\n",
      "2024 Mets season data loaded successfully.\n"
     ]
    }
   ],
   "source": [
    "# import libraries\n",
    "import os\n",
    "import pandas as pd\n",
    "import numpy as np\n",
    "import matplotlib.pyplot as plt\n",
    "import matplotlib.gridspec as gridspec\n",
    "import seaborn as sns\n",
    "print(\"Libraries imported successfully.\")\n",
    "\n",
    "# file paths\n",
    "data_path = os.path.expanduser(\"~/Documents/Mets/Data/\")\n",
    "print(\"File path defined successfully.\")\n",
    "\n",
    "# load data\n",
    "df = pd.read_csv(data_path + \"updated_analysis_2024 season mets transactions_05-22_11am.csv\")\n",
    "print(\"2024 Mets season data loaded successfully.\")"
   ]
  },
  {
   "cell_type": "code",
   "execution_count": 75,
   "metadata": {},
   "outputs": [
    {
     "name": "stdout",
     "output_type": "stream",
     "text": [
      "<class 'pandas.core.frame.DataFrame'>\n",
      "RangeIndex: 26474 entries, 0 to 26473\n",
      "Data columns (total 9 columns):\n",
      " #   Column               Non-Null Count  Dtype \n",
      "---  ------               --------------  ----- \n",
      " 0   section              26474 non-null  object\n",
      " 1   event_date           26474 non-null  object\n",
      " 2   name                 26474 non-null  object\n",
      " 3   revenue_per_section  26474 non-null  object\n",
      " 4   event_category       26474 non-null  object\n",
      " 5   stadium_side         26314 non-null  object\n",
      " 6   ring_pos             26314 non-null  object\n",
      " 7   seat_count           26474 non-null  object\n",
      " 8   revenue_per_seat     26474 non-null  object\n",
      "dtypes: object(9)\n",
      "memory usage: 1.8+ MB\n"
     ]
    },
    {
     "data": {
      "text/html": [
       "<div>\n",
       "<style scoped>\n",
       "    .dataframe tbody tr th:only-of-type {\n",
       "        vertical-align: middle;\n",
       "    }\n",
       "\n",
       "    .dataframe tbody tr th {\n",
       "        vertical-align: top;\n",
       "    }\n",
       "\n",
       "    .dataframe thead th {\n",
       "        text-align: right;\n",
       "    }\n",
       "</style>\n",
       "<table border=\"1\" class=\"dataframe\">\n",
       "  <thead>\n",
       "    <tr style=\"text-align: right;\">\n",
       "      <th></th>\n",
       "      <th>section</th>\n",
       "      <th>event_date</th>\n",
       "      <th>name</th>\n",
       "      <th>revenue_per_section</th>\n",
       "      <th>event_category</th>\n",
       "      <th>stadium_side</th>\n",
       "      <th>ring_pos</th>\n",
       "      <th>seat_count</th>\n",
       "      <th>revenue_per_seat</th>\n",
       "    </tr>\n",
       "  </thead>\n",
       "  <tbody>\n",
       "    <tr>\n",
       "      <th>count</th>\n",
       "      <td>26474</td>\n",
       "      <td>26474</td>\n",
       "      <td>26474</td>\n",
       "      <td>26474</td>\n",
       "      <td>26474</td>\n",
       "      <td>26314</td>\n",
       "      <td>26314</td>\n",
       "      <td>26474</td>\n",
       "      <td>26474</td>\n",
       "    </tr>\n",
       "    <tr>\n",
       "      <th>unique</th>\n",
       "      <td>241</td>\n",
       "      <td>80</td>\n",
       "      <td>72</td>\n",
       "      <td>15086</td>\n",
       "      <td>4</td>\n",
       "      <td>3</td>\n",
       "      <td>2</td>\n",
       "      <td>93</td>\n",
       "      <td>8100</td>\n",
       "    </tr>\n",
       "    <tr>\n",
       "      <th>top</th>\n",
       "      <td>110</td>\n",
       "      <td>2024-03-29 17:40:00+00</td>\n",
       "      <td>BRAVES at METS</td>\n",
       "      <td>0.00</td>\n",
       "      <td>Classic</td>\n",
       "      <td>outfield side</td>\n",
       "      <td>everything else</td>\n",
       "      <td>58</td>\n",
       "      <td>0.00</td>\n",
       "    </tr>\n",
       "    <tr>\n",
       "      <th>freq</th>\n",
       "      <td>156</td>\n",
       "      <td>409</td>\n",
       "      <td>1600</td>\n",
       "      <td>505</td>\n",
       "      <td>14446</td>\n",
       "      <td>10808</td>\n",
       "      <td>16786</td>\n",
       "      <td>3545</td>\n",
       "      <td>505</td>\n",
       "    </tr>\n",
       "  </tbody>\n",
       "</table>\n",
       "</div>"
      ],
      "text/plain": [
       "       section              event_date            name revenue_per_section  \\\n",
       "count    26474                   26474           26474               26474   \n",
       "unique     241                      80              72               15086   \n",
       "top        110  2024-03-29 17:40:00+00  BRAVES at METS                0.00   \n",
       "freq       156                     409            1600                 505   \n",
       "\n",
       "       event_category   stadium_side         ring_pos seat_count  \\\n",
       "count           26474          26314            26314      26474   \n",
       "unique              4              3                2         93   \n",
       "top           Classic  outfield side  everything else         58   \n",
       "freq            14446          10808            16786       3545   \n",
       "\n",
       "       revenue_per_seat  \n",
       "count             26474  \n",
       "unique             8100  \n",
       "top                0.00  \n",
       "freq                505  "
      ]
     },
     "execution_count": 75,
     "metadata": {},
     "output_type": "execute_result"
    }
   ],
   "source": [
    "# inspect data\n",
    "df.head()\n",
    "df.info()\n",
    "df.shape\n",
    "df.describe()"
   ]
  },
  {
   "cell_type": "code",
   "execution_count": 73,
   "metadata": {},
   "outputs": [
    {
     "name": "stdout",
     "output_type": "stream",
     "text": [
      "event_date field converted to data type: date\n",
      "<class 'pandas.core.frame.DataFrame'>\n",
      "RangeIndex: 26474 entries, 0 to 26473\n",
      "Data columns (total 9 columns):\n",
      " #   Column               Non-Null Count  Dtype              \n",
      "---  ------               --------------  -----              \n",
      " 0   section              26474 non-null  object             \n",
      " 1   event_date           26474 non-null  datetime64[ns, UTC]\n",
      " 2   name                 26474 non-null  object             \n",
      " 3   revenue_per_section  10389 non-null  float64            \n",
      " 4   event_category       26474 non-null  object             \n",
      " 5   stadium_side         26474 non-null  object             \n",
      " 6   ring_pos             26474 non-null  object             \n",
      " 7   seat_count           26474 non-null  object             \n",
      " 8   revenue_per_seat     26353 non-null  float64            \n",
      "dtypes: datetime64[ns, UTC](1), float64(2), object(6)\n",
      "memory usage: 1.8+ MB\n"
     ]
    }
   ],
   "source": [
    "# convert event_date\n",
    "df['event_date'] = pd.to_datetime(df['event_date'])\n",
    "column_names = list(df.columns)\n",
    "print(f\"{column_names[1]} field converted to data type: date\")\n",
    "df.info()"
   ]
  },
  {
   "cell_type": "code",
   "execution_count": 76,
   "metadata": {},
   "outputs": [
    {
     "name": "stdout",
     "output_type": "stream",
     "text": [
      "revenue_per_section and revenue_per_seat fields converted to data type: float\n",
      "stadium_side and ring_pos fields converted to data type: str\n",
      "<class 'pandas.core.frame.DataFrame'>\n",
      "RangeIndex: 26474 entries, 0 to 26473\n",
      "Data columns (total 9 columns):\n",
      " #   Column               Non-Null Count  Dtype  \n",
      "---  ------               --------------  -----  \n",
      " 0   section              26474 non-null  object \n",
      " 1   event_date           26474 non-null  object \n",
      " 2   name                 26474 non-null  object \n",
      " 3   revenue_per_section  10389 non-null  float64\n",
      " 4   event_category       26474 non-null  object \n",
      " 5   stadium_side         26474 non-null  object \n",
      " 6   ring_pos             26474 non-null  object \n",
      " 7   seat_count           26474 non-null  object \n",
      " 8   revenue_per_seat     26353 non-null  float64\n",
      "dtypes: float64(2), object(7)\n",
      "memory usage: 1.8+ MB\n"
     ]
    }
   ],
   "source": [
    "# Convert revenue_per_seat and stadium_side\n",
    "df['revenue_per_seat'] = pd.to_numeric(df['revenue_per_seat'], errors='coerce')\n",
    "df['revenue_per_section'] = pd.to_numeric(df['revenue_per_section'], errors='coerce')\n",
    "df['stadium_side'] = df['stadium_side'].astype(str) \n",
    "df['ring_pos'] = df['ring_pos'].astype(str) \n",
    "print(f\"{column_names[3]} and {column_names[8]} fields converted to data type: float\")\n",
    "print(f\"{column_names[5]} and {column_names[6]} fields converted to data type: str\")\n",
    "df.info()"
   ]
  },
  {
   "cell_type": "code",
   "execution_count": 77,
   "metadata": {},
   "outputs": [],
   "source": [
    "# remove "
   ]
  },
  {
   "cell_type": "code",
   "execution_count": 78,
   "metadata": {},
   "outputs": [],
   "source": [
    "# define NY Mets color scheme\n",
    "mets_blue = '#002D72' \n",
    "mets_orange = '#FF5910' "
   ]
  },
  {
   "cell_type": "code",
   "execution_count": 82,
   "metadata": {},
   "outputs": [
    {
     "name": "stderr",
     "output_type": "stream",
     "text": [
      "/var/folders/k8/z16d__ts06zdqf1hhm0qj9lw0000gn/T/ipykernel_29340/334308807.py:17: FutureWarning: \n",
      "\n",
      "Setting a gradient palette using color= is deprecated and will be removed in v0.14.0. Set `palette='dark:#FF5910'` for the same effect.\n",
      "\n",
      "  sns.swarmplot(x='event_category', y='revenue_per_seat', hue='stadium_side', data=grouped_df,\n"
     ]
    },
    {
     "data": {
      "image/png": "[encoded data removed]",
      "text/plain": [
       "<Figure size 1000x600 with 1 Axes>"
      ]
     },
     "metadata": {},
     "output_type": "display_data"
    }
   ],
   "source": [
    "### plot average revenue per seat per section grouped by stadium side and event category\n",
    "\n",
    "# group by event_category and stadium_side, then calculate the average revenue_per_seat\n",
    "grouped_df = df.groupby(['event_category', 'stadium_side'])['revenue_per_seat'].mean().reset_index()\n",
    "\n",
    "# Create the plot\n",
    "plt.figure(figsize=(10, 6))\n",
    "\n",
    "# Bar plot\n",
    "sns.barplot(x='event_category', y='revenue_per_seat', hue='stadium_side', data=grouped_df,\n",
    "            #order=[DEFINE_ORDER_HERE],\n",
    "            err_kws={'linewidth': 1.2, 'color': '#993414'}, errorbar = 'sd', capsize=0.2,\n",
    "            #color=mets_blue\n",
    "            )\n",
    "\n",
    "# Swarm plot\n",
    "#sns.swarmplot(x='event_category', y='revenue_per_seat', hue='stadium_side', data=grouped_df,\n",
    "              #order=[DEFINE_ORDER_HERE],\n",
    "#              color = mets_orange,\n",
    "#              alpha = .5)\n",
    "\n",
    "# Set plot labels and title\n",
    "plt.xlabel('Game categories')\n",
    "plt.ylabel('Average revenue per seat')\n",
    "plt.title('Average revenue per seat grouped by stadium side and event category')\n",
    "\n",
    "# Rotate x-axis labels for better readability\n",
    "plt.xticks(rotation=45, ha='right')\n",
    "\n",
    "# Format y axis ticks for readability\n",
    "#plt.yticks([0, 5000, 10000, 15000, 20000, 25000, 30000, 35000, 40000, 45000, 50000])\n",
    "\n",
    "# Display the plot\n",
    "plt.tight_layout()\n",
    "plt.show()"
   ]
  },
  {
   "cell_type": "markdown",
   "metadata": {},
   "source": [
    "- look at Subway series\n",
    "- Look at Dodgers\n",
    "- add error bars\n",
    "- remove nan\n",
    "- look at specifically sections: \n",
    "    - 3rd base side: 121 - 126\n",
    "    - 1st base side: 109 - 114\n"
   ]
  },
  {
   "cell_type": "code",
   "execution_count": null,
   "metadata": {},
   "outputs": [],
   "source": []
  }
 ],
 "metadata": {
  "kernelspec": {
   "display_name": "Python 3",
   "language": "python",
   "name": "python3"
  },
  "language_info": {
   "codemirror_mode": {
    "name": "ipython",
    "version": 3
   },
   "file_extension": ".py",
   "mimetype": "text/x-python",
   "name": "python",
   "nbconvert_exporter": "python",
   "pygments_lexer": "ipython3",
   "version": "3.12.3"
  }
 },
 "nbformat": 4,
 "nbformat_minor": 2
}
